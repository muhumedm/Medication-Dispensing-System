{
 "cells": [
  {
   "cell_type": "code",
   "execution_count": 3,
   "id": "f7f8d36d-4210-4767-b5dc-ec04ff991def",
   "metadata": {},
   "outputs": [],
   "source": [
    "#Muna Muhumed\n",
    "#MUH21496541\n",
    "#Date Started: 07/11/2024\n",
    "#Date Completed: "
   ]
  },
  {
   "cell_type": "code",
   "execution_count": 114,
   "id": "c38db65e-66eb-431b-8458-05b9ebc6c2a5",
   "metadata": {},
   "outputs": [
    {
     "name": "stdout",
     "output_type": "stream",
     "text": [
      "                              ************************************\n",
      "                             * Medical Dispensing Machine Program *\n",
      "                              ************************************\n",
      "\n",
      "\n",
      "* Loading Dataset * \n",
      "\n",
      "Dataset loaded successfully.\n",
      "\n",
      "* Patient Info Data *\n",
      "\n",
      "  Patient ID            Name Medication Name   Dosage Time  Colour  \\\n",
      "0       A001    Abir Mohamed      Medicine A  08:00, 20:00     Red   \n",
      "1       A001    Abir Mohamed      Medicine B         14:00   Green   \n",
      "2       B002      John Smith      Medicine C  09:00, 21:00    Blue   \n",
      "3       C003     Annabel Key      Medicine D         07:30  Yellow   \n",
      "4       D004       Tess Dunn      Medicine E         13:00  Violet   \n",
      "5       E005      Lilia Rowe      Medicine F  11:00, 22:00  Orange   \n",
      "6       F006  Aaryan Mcclain      Medicine G  10:00, 16:00  Indigo   \n",
      "7       G007   Khadija Ahmed      Medicine H         15:00   White   \n",
      "8       H008    Zubair Horne      Medicine I         18:00  Purple   \n",
      "9       H008    Zubair Horne      Medicine J  08:00, 16:00    Pink   \n",
      "\n",
      "   Notification Contact  \n",
      "0            7989950266  \n",
      "1            7989950266  \n",
      "2            7754256674  \n",
      "3            7729560250  \n",
      "4            7074746090  \n",
      "5            7909211587  \n",
      "6            7963816998  \n",
      "7            7844106799  \n",
      "8            7077057848  \n",
      "9            7077057848  \n",
      "\n",
      "\n",
      " * Dataset Overview *\n",
      "\n",
      "The dataset contains 10 records and 6 columns.\n",
      "\n"
     ]
    }
   ],
   "source": [
    "#import patient data table \n",
    "import pandas as pd\n",
    "\n",
    "# Display the start of the program\n",
    "print(\"                              ************************************\")\n",
    "print(\"                             * Medical Dispensing Machine Program *\")\n",
    "print(\"                              ************************************\\n\\n\")\n",
    "\n",
    "\n",
    "# Load the data from the CSV file\n",
    "# Loading data into a DataFrame so we can easily work with it\n",
    "print(\"* Loading Dataset * \\n\")\n",
    "data = pd.read_csv('/Users/muna./Downloads/patientdata.csv') \n",
    "print(\"Dataset loaded successfully.\\n\")\n",
    "\n",
    "# Display all columns columns from the dataset\n",
    "print(f\"* Patient Info Data *\\n\")\n",
    "print(data[['Patient ID', 'Name', 'Medication Name' , 'Dosage Time' , 'Colour' , 'Notification Contact']])\n",
    "\n",
    "# Find the number of rows and columns in the dataset\n",
    "num_rows, num_columns = data.shape\n",
    "\n",
    "# Display the number of rows and columns in the dataset\n",
    "print(\"\\n\\n * Dataset Overview *\\n\")\n",
    "print(f\"The dataset contains {num_rows} records and {num_columns} columns.\\n\")\n"
   ]
  },
  {
   "cell_type": "code",
   "execution_count": null,
   "id": "4e218966-b79b-4796-8cf8-1afb4ea36e11",
   "metadata": {},
   "outputs": [],
   "source": []
  }
 ],
 "metadata": {
  "kernelspec": {
   "display_name": "Python 3 (ipykernel)",
   "language": "python",
   "name": "python3"
  },
  "language_info": {
   "codemirror_mode": {
    "name": "ipython",
    "version": 3
   },
   "file_extension": ".py",
   "mimetype": "text/x-python",
   "name": "python",
   "nbconvert_exporter": "python",
   "pygments_lexer": "ipython3",
   "version": "3.12.4"
  }
 },
 "nbformat": 4,
 "nbformat_minor": 5
}
